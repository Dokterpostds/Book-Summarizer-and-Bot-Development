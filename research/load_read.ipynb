{
 "cells": [
  {
   "cell_type": "markdown",
   "metadata": {},
   "source": [
    "# Write"
   ]
  },
  {
   "cell_type": "code",
   "execution_count": null,
   "metadata": {},
   "outputs": [],
   "source": [
    "# Define the list of data\n",
    "data_list = [\"Item 1\", \"Item 2\", \"Item 3\"]\n",
    "\n",
    "# Specify the file path where you want to save the data\n",
    "file_path = \"data_list.txt\"\n",
    "\n",
    "# Open the file in write mode\n",
    "with open(file_path, 'w') as file:\n",
    "    # Write each item in the list to the file, followed by a newline\n",
    "    for item in data_list:\n",
    "        file.write(f\"{item}\\n\")\n",
    "\n",
    "print(f\"Data saved to {file_path}\")\n"
   ]
  },
  {
   "cell_type": "markdown",
   "metadata": {},
   "source": [
    "# Load"
   ]
  },
  {
   "cell_type": "code",
   "execution_count": null,
   "metadata": {},
   "outputs": [],
   "source": [
    "data_list = [1, 2, 3, 4.5, True]\n",
    "\n",
    "with open(file_path, 'w') as file:\n",
    "    for item in data_list:\n",
    "        file.write(f\"{item}\\n\")"
   ]
  },
  {
   "cell_type": "markdown",
   "metadata": {},
   "source": [
    "# Add the data"
   ]
  },
  {
   "cell_type": "code",
   "execution_count": null,
   "metadata": {},
   "outputs": [],
   "source": [
    "# Define the new data to be added\n",
    "new_data = [\"New Item 1\", \"New Item 2\", \"New Item 3\"]\n",
    "\n",
    "# Specify the file path of the text file\n",
    "file_path = \"data_list.txt\"\n",
    "\n",
    "# Open the file in append mode\n",
    "with open(file_path, 'a') as file:\n",
    "    # Write each new item to the file, followed by a newline\n",
    "    for item in new_data:\n",
    "        file.write(f\"{item}\\n\")\n",
    "\n",
    "print(f\"New data appended to {file_path}\")"
   ]
  }
 ],
 "metadata": {
  "kernelspec": {
   "display_name": "DocumentSummarizer",
   "language": "python",
   "name": "python3"
  },
  "language_info": {
   "name": "python",
   "version": "3.10.14"
  }
 },
 "nbformat": 4,
 "nbformat_minor": 2
}
