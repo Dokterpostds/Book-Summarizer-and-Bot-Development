{
 "cells": [
  {
   "cell_type": "markdown",
   "metadata": {},
   "source": [
    "## The embedding from Chroma DB"
   ]
  },
  {
   "cell_type": "code",
   "execution_count": null,
   "metadata": {},
   "outputs": [],
   "source": [
    "from langchain.embeddings import OpenAIEmbeddings\n",
    "from langchain.vectorstores import Chroma\n",
    "from langchain.document_loaders import PyPDFLoader\n",
    "\n",
    "# 1. Load the Document\n",
    "loader = PyPDFLoader(\"your_document.pdf\")\n",
    "documents = loader.load()\n",
    "\n",
    "# 2. Prepare Metadata\n",
    "metadata = [{\"page_number\": doc.metadata['page_number']} for doc in documents]\n",
    "\n",
    "# 3. Generate Embeddings\n",
    "embeddings = OpenAIEmbeddings(model_name=\"text-embedding-ada-002\")\n",
    "document_embeddings = embeddings.embed_documents([doc.page_content for doc in documents])\n",
    "\n",
    "# 4. Create or Load a Collection in ChromaDB\n",
    "collection_name = \"my_document_collection\"\n",
    "vectorstore = Chroma.from_embeddings(embeddings=document_embeddings, documents=documents, metadatas=metadata, persist_directory=\"chroma_db\", collection_name=collection_name)\n",
    "vectorstore.persist()\n",
    "\n",
    "print(f\"Embeddings and metadata persisted successfully in collection: {collection_name}.\")\n"
   ]
  },
  {
   "cell_type": "markdown",
   "metadata": {},
   "source": [
    "## Adding the Embeddings of the books"
   ]
  },
  {
   "cell_type": "code",
   "execution_count": null,
   "metadata": {},
   "outputs": [],
   "source": [
    "from chromadb import Client\n",
    "\n",
    "# Initialize ChromaDB client\n",
    "client = Client()\n",
    "\n",
    "# Load the existing database\n",
    "collection = client.get_collection('your_collection_name')\n"
   ]
  },
  {
   "cell_type": "code",
   "execution_count": null,
   "metadata": {},
   "outputs": [],
   "source": [
    "from langchain.embeddings import OpenAIEmbeddings\n",
    "from langchain.text_splitter import CharacterTextSplitter\n",
    "from langchain.vectorstores import Chroma\n",
    "\n",
    "# Load your new PDF content\n",
    "new_pdf_text = load_pdf('new_resource.pdf')\n",
    "\n",
    "# Split the text for embedding\n",
    "text_splitter = CharacterTextSplitter(chunk_size=1000, chunk_overlap=100)\n",
    "texts = text_splitter.split_text(new_pdf_text)\n",
    "\n",
    "# Generate embeddings\n",
    "embeddings = OpenAIEmbeddings()\n",
    "new_embeddings = embeddings.embed_documents(texts)\n"
   ]
  },
  {
   "cell_type": "code",
   "execution_count": null,
   "metadata": {},
   "outputs": [],
   "source": [
    "# Add new embeddings to the collection\n",
    "collection.add(\n",
    "    documents=texts,          # The new texts or documents\n",
    "    embeddings=new_embeddings # The corresponding embeddings\n",
    ")\n"
   ]
  },
  {
   "cell_type": "code",
   "execution_count": null,
   "metadata": {},
   "outputs": [],
   "source": [
    "client.persist()\n",
    "print(f\"Total number of documents: {collection.count()}\") "
   ]
  },
  {
   "cell_type": "markdown",
   "metadata": {},
   "source": [
    "## Delete Vector DB"
   ]
  },
  {
   "cell_type": "code",
   "execution_count": null,
   "metadata": {},
   "outputs": [],
   "source": [
    "document_ids_to_delete = [\"doc_id_1\", \"doc_id_2\"]\n"
   ]
  },
  {
   "cell_type": "code",
   "execution_count": null,
   "metadata": {},
   "outputs": [],
   "source": [
    "# Perform a search to identify documents to delete\n",
    "results = collection.query(query_texts=[\"some search text\"], n_results=5)\n",
    "document_ids_to_delete = [result['id'] for result in results['documents']]\n"
   ]
  },
  {
   "cell_type": "code",
   "execution_count": null,
   "metadata": {},
   "outputs": [],
   "source": [
    "# Delete documents by their IDs\n",
    "collection.delete(ids=document_ids_to_delete)\n"
   ]
  },
  {
   "cell_type": "code",
   "execution_count": null,
   "metadata": {},
   "outputs": [],
   "source": [
    "client.persist()"
   ]
  },
  {
   "cell_type": "code",
   "execution_count": null,
   "metadata": {},
   "outputs": [],
   "source": [
    "print(f\"Total number of documents after deletion: {collection.count()}\")\n"
   ]
  }
 ],
 "metadata": {
  "language_info": {
   "name": "python"
  }
 },
 "nbformat": 4,
 "nbformat_minor": 2
}
